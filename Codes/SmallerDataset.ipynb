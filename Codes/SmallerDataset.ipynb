{
  "nbformat": 4,
  "nbformat_minor": 0,
  "metadata": {
    "colab": {
      "name": "SmallerDataset",
      "provenance": []
    },
    "kernelspec": {
      "name": "python3",
      "display_name": "Python 3"
    },
    "language_info": {
      "name": "python"
    }
  },
  "cells": [
    {
      "cell_type": "code",
      "metadata": {
        "colab": {
          "base_uri": "https://localhost:8080/"
        },
        "id": "7LL4PKsXbN-U",
        "outputId": "188bd537-2db3-4170-d2f4-b9ab8a75ff20"
      },
      "source": [
        "from google.colab import drive\n",
        "drive.mount('/content/drive')"
      ],
      "execution_count": null,
      "outputs": [
        {
          "output_type": "stream",
          "name": "stdout",
          "text": [
            "Mounted at /content/drive\n"
          ]
        }
      ]
    },
    {
      "cell_type": "code",
      "metadata": {
        "colab": {
          "base_uri": "https://localhost:8080/"
        },
        "id": "6B8Man6ga-A_",
        "outputId": "ceadf93a-d507-46a2-a9e5-6e4980c7b087"
      },
      "source": [
        "import pickle\n",
        "pickle_in = open('/content/drive/MyDrive/Dataset/X.pickle', \"rb\")\n",
        "X = pickle.load(pickle_in)\n",
        "pickle_in.close()\n",
        "\n",
        "pickle_in = open('/content/drive/MyDrive/Dataset/y.pickle', \"rb\")\n",
        "y = pickle.load(pickle_in)\n",
        "pickle_in.close()\n",
        "\n",
        "X.shape , y.shape "
      ],
      "execution_count": null,
      "outputs": [
        {
          "output_type": "execute_result",
          "data": {
            "text/plain": [
              "((3527, 128, 128, 3), (3527,))"
            ]
          },
          "metadata": {},
          "execution_count": 2
        }
      ]
    }
  ]
}